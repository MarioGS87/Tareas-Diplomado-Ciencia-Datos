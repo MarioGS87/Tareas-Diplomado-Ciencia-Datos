{
 "cells": [
  {
   "cell_type": "code",
   "execution_count": 10,
   "id": "041dfdcc",
   "metadata": {},
   "outputs": [
    {
     "name": "stdout",
     "output_type": "stream",
     "text": [
      "Gradiente de z: [8*x**2/(x**2 + y**2 + 1)**2 - 4/(x**2 + y**2 + 1), 8*x*y/(x**2 + y**2 + 1)**2]\n",
      "Gradiente evaluado en el punto (2, 2): [-0.0493827160493827, 0.395061728395062]\n"
     ]
    }
   ],
   "source": [
    "import sympy as sp\n",
    "\n",
    "def calcular_gradiente(funcion, variables):\n",
    "    \"\"\"\n",
    "    Calcula el gradiente de una función con respecto a un conjunto de variables.\n",
    "\n",
    "    :param funcion: La función simbólica de la cual vamos a calcular el gradiente.\n",
    "    :param variables: Lista de variables simbólicas.\n",
    "    :return: Lista de derivadas parciales (el gradiente).\n",
    "    \"\"\"\n",
    "    gradiente = [sp.diff(funcion, var) for var in variables]\n",
    "    return gradiente\n",
    "\n",
    "def evaluar_gradiente(gradiente, variables, valores):\n",
    "    \"\"\"\n",
    "    Evalúa el gradiente en un punto específico.\n",
    "\n",
    "    :param gradiente: Lista de derivadas parciales.\n",
    "    :param variables: Lista de variables simbólicas.\n",
    "    :param valores: Lista de valores en los que evaluar las variables.\n",
    "    :return: Lista con el valor del gradiente evaluado en los puntos dados.\n",
    "    \"\"\"\n",
    "    valor_dic = dict(zip(variables, valores))\n",
    "    gradiente_evaluado = [gradiente_i.evalf(subs=valor_dic) for gradiente_i in gradiente]\n",
    "    return gradiente_evaluado\n",
    "\n",
    "# Definir las variables simbólicas\n",
    "x, y = sp.symbols('x y')\n",
    "\n",
    "# Definir la función\n",
    "z = -4*x / (x**2 + y**2 + 1)\n",
    "\n",
    "# Calcular el gradiente\n",
    "gradiente_z = calcular_gradiente(z, [x, y])\n",
    "\n",
    "# Función para evaluar el gradiente en puntos específicos\n",
    "def evaluar_gradiente_en_punto(punto):\n",
    "    return evaluar_gradiente(gradiente_z, [x, y], punto)\n",
    "\n",
    "# Ejemplo de evaluación en un punto específico\n",
    "punto = (2, 2)\n",
    "gradiente_en_punto = evaluar_gradiente_en_punto(punto)\n",
    "\n",
    "print(\"Gradiente de z:\", gradiente_z)\n",
    "print(f\"Gradiente evaluado en el punto {punto}:\", gradiente_en_punto)"
   ]
  }
 ],
 "metadata": {
  "kernelspec": {
   "display_name": "Python 3 (ipykernel)",
   "language": "python",
   "name": "python3"
  },
  "language_info": {
   "codemirror_mode": {
    "name": "ipython",
    "version": 3
   },
   "file_extension": ".py",
   "mimetype": "text/x-python",
   "name": "python",
   "nbconvert_exporter": "python",
   "pygments_lexer": "ipython3",
   "version": "3.9.13"
  }
 },
 "nbformat": 4,
 "nbformat_minor": 5
}
