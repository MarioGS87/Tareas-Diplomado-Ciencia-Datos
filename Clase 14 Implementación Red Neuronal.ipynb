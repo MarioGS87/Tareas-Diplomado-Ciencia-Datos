{
 "cells": [
  {
   "cell_type": "code",
   "execution_count": 1,
   "id": "cda28e1d",
   "metadata": {},
   "outputs": [
    {
     "name": "stdout",
     "output_type": "stream",
     "text": [
      "Output de la red neuronal: [[-2.02902702  5.44349089]]\n"
     ]
    }
   ],
   "source": [
    "import numpy as np\n",
    "\n",
    "# Definición de funciones de activación\n",
    "def relu(x):\n",
    "    return np.maximum(0, x)\n",
    "\n",
    "def identity(x):\n",
    "    return x\n",
    "\n",
    "# Inicialización de parámetros\n",
    "input_size = 3\n",
    "hidden_size = 4\n",
    "output_size = 2\n",
    "\n",
    "# Pesos y biases para la capa oculta\n",
    "W1 = np.random.randn(input_size, hidden_size)\n",
    "b1 = np.zeros((1, hidden_size))\n",
    "\n",
    "# Pesos y biases para la capa de salida\n",
    "W2 = np.random.randn(hidden_size, output_size)\n",
    "b2 = np.zeros((1, output_size))\n",
    "\n",
    "# Definición de la red neuronal\n",
    "def neural_network(X):\n",
    "    # Capa oculta\n",
    "    z1 = np.dot(X, W1) + b1\n",
    "    a1 = relu(z1)\n",
    "    \n",
    "    # Capa de salida\n",
    "    z2 = np.dot(a1, W2) + b2\n",
    "    output = identity(z2)\n",
    "    \n",
    "    return output\n",
    "\n",
    "# Ejemplo de entrada\n",
    "X = np.array([[1.0, 2.0, 3.0]])\n",
    "\n",
    "# Forward pass\n",
    "output = neural_network(X)\n",
    "print(\"Output de la red neuronal:\", output)"
   ]
  },
  {
   "cell_type": "code",
   "execution_count": null,
   "id": "f05ba520",
   "metadata": {},
   "outputs": [],
   "source": []
  }
 ],
 "metadata": {
  "kernelspec": {
   "display_name": "Python 3 (ipykernel)",
   "language": "python",
   "name": "python3"
  },
  "language_info": {
   "codemirror_mode": {
    "name": "ipython",
    "version": 3
   },
   "file_extension": ".py",
   "mimetype": "text/x-python",
   "name": "python",
   "nbconvert_exporter": "python",
   "pygments_lexer": "ipython3",
   "version": "3.9.13"
  }
 },
 "nbformat": 4,
 "nbformat_minor": 5
}
