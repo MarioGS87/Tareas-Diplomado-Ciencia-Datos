{
 "cells": [
  {
   "cell_type": "code",
   "execution_count": 12,
   "id": "cf5162bc",
   "metadata": {},
   "outputs": [
    {
     "name": "stdout",
     "output_type": "stream",
     "text": [
      "Variables relevantes:\n",
      "        CRIM    ZN  CHAS    NOX     RM     DIS  RAD    TAX  PTRATIO       B  \\\n",
      "0    0.00632  18.0     0  0.538  6.575  4.0900    1  296.0     15.3  396.90   \n",
      "1    0.02731   0.0     0  0.469  6.421  4.9671    2  242.0     17.8  396.90   \n",
      "2    0.02729   0.0     0  0.469  7.185  4.9671    2  242.0     17.8  392.83   \n",
      "3    0.03237   0.0     0  0.458  6.998  6.0622    3  222.0     18.7  394.63   \n",
      "4    0.06905   0.0     0  0.458  7.147  6.0622    3  222.0     18.7  396.90   \n",
      "..       ...   ...   ...    ...    ...     ...  ...    ...      ...     ...   \n",
      "501  0.06263   0.0     0  0.573  6.593  2.4786    1  273.0     21.0  391.99   \n",
      "502  0.04527   0.0     0  0.573  6.120  2.2875    1  273.0     21.0  396.90   \n",
      "503  0.06076   0.0     0  0.573  6.976  2.1675    1  273.0     21.0  396.90   \n",
      "504  0.10959   0.0     0  0.573  6.794  2.3889    1  273.0     21.0  393.45   \n",
      "505  0.04741   0.0     0  0.573  6.030  2.5050    1  273.0     21.0  396.90   \n",
      "\n",
      "     LSTAT  MEDV  \n",
      "0     4.98  24.0  \n",
      "1     9.14  21.6  \n",
      "2     4.03  34.7  \n",
      "3     2.94  33.4  \n",
      "4     5.33  36.2  \n",
      "..     ...   ...  \n",
      "501   9.67  22.4  \n",
      "502   9.08  20.6  \n",
      "503   5.64  23.9  \n",
      "504   6.48  22.0  \n",
      "505   7.88  11.9  \n",
      "\n",
      "[506 rows x 12 columns]\n"
     ]
    }
   ],
   "source": [
    "import pandas as pd\n",
    "import numpy as np\n",
    "import statsmodels.api as sm\n",
    "\n",
    "def remove_irrelevant_variables(data, target_variable, significance_level=0.05):\n",
    "    \"\"\"\n",
    "    Elimina las variables no relevantes para un modelo de regresión lineal\n",
    "    basándose en el p-valor.\n",
    "\n",
    "    Parámetros:\n",
    "    - data: DataFrame de pandas con los datos.\n",
    "    - target_variable: La columna objetivo (variable dependiente).\n",
    "    - significance_level: El nivel de significancia para considerar una variable\n",
    "      como relevante. Por defecto es 0.05.\n",
    "\n",
    "    Retorna:\n",
    "    - DataFrame: DataFrame con las variables relevantes.\n",
    "    \"\"\"\n",
    "    # Separar las variables independientes y dependientes\n",
    "    X = data.drop(columns=[target_variable])\n",
    "    y = data[target_variable]\n",
    "\n",
    "    # Añadir una constante al modelo (intercepto)\n",
    "    X = sm.add_constant(X)\n",
    "\n",
    "    # Construir el modelo de regresión lineal\n",
    "    model = sm.OLS(y, X).fit()\n",
    "\n",
    "    # Obtener los p-valores de las variables\n",
    "    p_values = model.pvalues\n",
    "\n",
    "    # Filtrar las variables con p-valores menores que el nivel de significancia\n",
    "    relevant_variables = p_values[p_values < significance_level].index\n",
    "\n",
    "    # Excluir la constante si está presente\n",
    "    if 'const' in relevant_variables:\n",
    "        relevant_variables = relevant_variables.drop('const')\n",
    "\n",
    "    # Retornar el DataFrame con solo las variables relevantes\n",
    "    return data[relevant_variables.tolist() + [target_variable]]\n",
    "\n",
    "# Ejemplo de uso\n",
    "data = pd.read_csv('boston_clear.txt')\n",
    "\n",
    "df = pd.DataFrame(data)\n",
    "\n",
    "# Eliminar variables no relevantes\n",
    "df_relevant = remove_irrelevant_variables(df, target_variable='MEDV')\n",
    "\n",
    "print(\"Variables relevantes:\")\n",
    "print(df_relevant)\n"
   ]
  },
  {
   "cell_type": "code",
   "execution_count": null,
   "id": "cc88ceb6",
   "metadata": {},
   "outputs": [],
   "source": []
  }
 ],
 "metadata": {
  "kernelspec": {
   "display_name": "Python 3 (ipykernel)",
   "language": "python",
   "name": "python3"
  },
  "language_info": {
   "codemirror_mode": {
    "name": "ipython",
    "version": 3
   },
   "file_extension": ".py",
   "mimetype": "text/x-python",
   "name": "python",
   "nbconvert_exporter": "python",
   "pygments_lexer": "ipython3",
   "version": "3.9.13"
  }
 },
 "nbformat": 4,
 "nbformat_minor": 5
}
