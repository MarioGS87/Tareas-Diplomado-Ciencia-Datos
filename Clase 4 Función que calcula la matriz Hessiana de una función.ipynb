{
 "cells": [
  {
   "cell_type": "code",
   "execution_count": 14,
   "id": "871e5018",
   "metadata": {},
   "outputs": [
    {
     "name": "stdout",
     "output_type": "stream",
     "text": [
      "Matriz Hessiana:\n",
      "\n",
      "⎡-2  0 ⎤\n",
      "⎢      ⎥\n",
      "⎣0   -2⎦\n",
      "\n",
      "Matriz Hessiana evaluada en el punto (0, 0):\n",
      "\n",
      "⎡-2.0   0  ⎤\n",
      "⎢          ⎥\n",
      "⎣ 0    -2.0⎦\n"
     ]
    }
   ],
   "source": [
    "import sympy as sp\n",
    "\n",
    "def calcular_hessiana(funcion, variables):\n",
    "    \"\"\"\n",
    "    Calcula la matriz hessiana de una función con respecto a un conjunto de variables.\n",
    "\n",
    "    :param funcion: La función simbólica de la cual calcular la matriz hessiana.\n",
    "    :param variables: Lista de variables simbólicas.\n",
    "    :return: Matriz hessiana.\n",
    "    \"\"\"\n",
    "    hessiana = sp.hessian(funcion, variables)\n",
    "    return hessiana\n",
    "\n",
    "def evaluar_hessiana(hessiana, variables, valores):\n",
    "    \"\"\"\n",
    "    Evalúa la matriz hessiana en un punto específico.\n",
    "\n",
    "    :param hessiana: Matriz hessiana simbólica.\n",
    "    :param variables: Lista de variables simbólicas.\n",
    "    :param valores: Lista de valores en los que evaluar las variables.\n",
    "    :return: Matriz hessiana evaluada en los puntos dados.\n",
    "    \"\"\"\n",
    "    valor_dic = dict(zip(variables, valores))\n",
    "    hessiana_evaluada = hessiana.evalf(subs=valor_dic)\n",
    "    return hessiana_evaluada\n",
    "\n",
    "# Definir las variables simbólicas\n",
    "x, y = sp.symbols('x y')\n",
    "\n",
    "# Definir la función\n",
    "f = -x**2 - y**2\n",
    "\n",
    "# Calcular la matriz hessiana\n",
    "hessiana_f = calcular_hessiana(f, [x, y])\n",
    "\n",
    "# Función para evaluar la matriz hessiana en puntos específicos\n",
    "def evaluar_hessiana_en_punto(punto):\n",
    "    return evaluar_hessiana(hessiana_f, [x, y], punto)\n",
    "\n",
    "# Ejemplo de evaluación en un punto específico\n",
    "punto = (0, 0)\n",
    "hessiana_en_punto = evaluar_hessiana_en_punto(punto)\n",
    "\n",
    "print(\"Matriz Hessiana:\\n\")\n",
    "sp.pprint(hessiana_f)\n",
    "\n",
    "print(f\"\\nMatriz Hessiana evaluada en el punto {punto}:\\n\")\n",
    "sp.pprint(hessiana_en_punto)"
   ]
  }
 ],
 "metadata": {
  "kernelspec": {
   "display_name": "Python 3 (ipykernel)",
   "language": "python",
   "name": "python3"
  },
  "language_info": {
   "codemirror_mode": {
    "name": "ipython",
    "version": 3
   },
   "file_extension": ".py",
   "mimetype": "text/x-python",
   "name": "python",
   "nbconvert_exporter": "python",
   "pygments_lexer": "ipython3",
   "version": "3.9.13"
  }
 },
 "nbformat": 4,
 "nbformat_minor": 5
}
