{
 "cells": [
  {
   "cell_type": "code",
   "execution_count": 7,
   "id": "cef79946",
   "metadata": {},
   "outputs": [
    {
     "name": "stdout",
     "output_type": "stream",
     "text": [
      "Punto de mínimo encontrado: [ 2.74877907e-07 -2.74877907e-07]\n",
      "Valor de la función en el punto de mínimo: 7.55578637259146E-13\n",
      "Número de iteraciones realizadas: 20\n"
     ]
    }
   ],
   "source": [
    "import numpy as np\n",
    "import sympy as sp\n",
    "\n",
    "def gradiente_descendente(funcion, variables, punto_inicial, tasa_aprendizaje=0.01, max_iteraciones=1000, tolerancia=1e-6):\n",
    "    \"\"\"\n",
    "    Implementa el algoritmo de descenso del gradiente para minimizar una función.\n",
    "\n",
    "    :param funcion: La función simbólica que se va a minimizar.\n",
    "    :param variables: Lista de variables simbólicas.\n",
    "    :param punto_inicial: Lista de valores iniciales para las variables.\n",
    "    :param tasa_aprendizaje: Tasa de aprendizaje para el descenso del gradiente.\n",
    "    :param max_iteraciones: Número máximo de iteraciones.\n",
    "    :param tolerancia: Tolerancia para la convergencia.\n",
    "    :return: Punto de mínimo encontrado, valor de la función en ese punto y número de iteraciones realizadas.\n",
    "    \"\"\"\n",
    "    # Convertir punto inicial a un diccionario\n",
    "    punto = dict(zip(variables, punto_inicial))\n",
    "\n",
    "    # Calcular el gradiente de la función\n",
    "    gradiente = [sp.diff(funcion, var) for var in variables]\n",
    "\n",
    "    for i in range(max_iteraciones):\n",
    "        # Evaluar el gradiente en el punto actual\n",
    "        gradiente_evaluado = np.array([gradiente_i.evalf(subs=punto) for gradiente_i in gradiente], dtype=float)\n",
    "\n",
    "        # Actualizar el punto\n",
    "        nuevo_punto = {var: punto[var] - tasa_aprendizaje * gradiente_evaluado[i] for i, var in enumerate(variables)}\n",
    "\n",
    "        # Verificar la convergencia\n",
    "        if np.linalg.norm(np.array(list(punto.values())) - np.array(list(nuevo_punto.values()))) < tolerancia:\n",
    "            break\n",
    "\n",
    "        punto = nuevo_punto\n",
    "\n",
    "    punto_minimo = np.array(list(punto.values()), dtype=float)\n",
    "    valor_minimo = funcion.evalf(subs=punto)\n",
    "\n",
    "    return punto_minimo, valor_minimo, i + 1\n",
    "\n",
    "# Definir las variables simbólicas\n",
    "x, y = sp.symbols('x y')\n",
    "\n",
    "# Definir la función\n",
    "f = 3*x**2 + 7*y**2\n",
    "\n",
    "# Parámetros del descenso del gradiente\n",
    "punto_inicial = [10, 10]\n",
    "tasa_aprendizaje = 0.1\n",
    "max_iteraciones = 1000\n",
    "tolerancia = 1e-6\n",
    "\n",
    "# Ejecutar el descenso del gradiente\n",
    "punto_minimo, valor_minimo, iteraciones = gradiente_descendente(f, [x, y], punto_inicial, tasa_aprendizaje, max_iteraciones, tolerancia)\n",
    "\n",
    "print(f\"Punto de mínimo encontrado: {punto_minimo}\")\n",
    "print(f\"Valor de la función en el punto de mínimo: {valor_minimo}\")\n",
    "print(f\"Número de iteraciones realizadas: {iteraciones}\")"
   ]
  },
  {
   "cell_type": "code",
   "execution_count": null,
   "id": "91608339",
   "metadata": {},
   "outputs": [],
   "source": []
  }
 ],
 "metadata": {
  "kernelspec": {
   "display_name": "Python 3 (ipykernel)",
   "language": "python",
   "name": "python3"
  },
  "language_info": {
   "codemirror_mode": {
    "name": "ipython",
    "version": 3
   },
   "file_extension": ".py",
   "mimetype": "text/x-python",
   "name": "python",
   "nbconvert_exporter": "python",
   "pygments_lexer": "ipython3",
   "version": "3.9.13"
  }
 },
 "nbformat": 4,
 "nbformat_minor": 5
}
