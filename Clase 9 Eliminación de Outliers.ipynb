{
 "cells": [
  {
   "cell_type": "code",
   "execution_count": 8,
   "id": "29217128",
   "metadata": {},
   "outputs": [
    {
     "name": "stdout",
     "output_type": "stream",
     "text": [
      "Datos sin outliers (z-score):\n",
      "        total_rooms  total_bedrooms  median_income\n",
      "0            880.0           129.0         8.3252\n",
      "1           7099.0          1106.0         8.3014\n",
      "2           1467.0           190.0         7.2574\n",
      "3           1274.0           235.0         5.6431\n",
      "4           1627.0           280.0         3.8462\n",
      "...            ...             ...            ...\n",
      "20635       1665.0           374.0         1.5603\n",
      "20636        697.0           150.0         2.5568\n",
      "20637       2254.0           485.0         1.7000\n",
      "20638       1860.0           409.0         1.8672\n",
      "20639       2785.0           616.0         2.3886\n",
      "\n",
      "[19634 rows x 3 columns]\n",
      "\n",
      "Datos sin outliers (boxplot):\n",
      "        total_rooms  total_bedrooms  median_income\n",
      "0            880.0           129.0         8.3252\n",
      "1           7099.0          1106.0         8.3014\n",
      "2           1467.0           190.0         7.2574\n",
      "3           1274.0           235.0         5.6431\n",
      "4           1627.0           280.0         3.8462\n",
      "...            ...             ...            ...\n",
      "20635       1665.0           374.0         1.5603\n",
      "20636        697.0           150.0         2.5568\n",
      "20637       2254.0           485.0         1.7000\n",
      "20638       1860.0           409.0         1.8672\n",
      "20639       2785.0           616.0         2.3886\n",
      "\n",
      "[19702 rows x 3 columns]\n"
     ]
    }
   ],
   "source": [
    "import pandas as pd\n",
    "\n",
    "# Definir un DataFrame de ejemplo\n",
    "\n",
    "data = pd.read_csv('housing.csv', usecols = ['total_rooms','total_bedrooms','median_income'])\n",
    "\n",
    "df = pd.DataFrame(data)\n",
    "\n",
    "def outliers(data, method='z-score', threshold=3):\n",
    "    \"\"\"\n",
    "    Elimina los valores atípicos de un conjunto de datos.\n",
    "    \n",
    "    Parámetros:\n",
    "        - data: DataFrame de pandas con los datos.\n",
    "        - method: Método para detectar los valores atípicos. Puede ser 'z-score' o 'boxplot'.\n",
    "        - threshold: Umbral para considerar un valor como atípico. Por defecto, es 3.\n",
    "    \n",
    "    Retorna:\n",
    "        - DataFrame: DataFrame sin los valores atípicos.\n",
    "    \"\"\"\n",
    "    if method == 'z-score':\n",
    "        z_scores = ((data - data.mean()) / data.std()).abs()\n",
    "        return data[(z_scores < threshold).all(axis=1)]\n",
    "    elif method == 'boxplot':\n",
    "        q1 = data.quantile(0.25)\n",
    "        q3 = data.quantile(0.75)\n",
    "        iqr = q3 - q1\n",
    "        lower_bound = q1 - threshold * iqr\n",
    "        upper_bound = q3 + threshold * iqr\n",
    "        return data[((data >= lower_bound) & (data <= upper_bound)).all(axis=1)]\n",
    "    else:\n",
    "        raise ValueError(\"Método no válido. Use 'z-score' o 'boxplot'.\")\n",
    "\n",
    "# Ejemplo de uso:\n",
    "# Eliminar outliers utilizando z-score\n",
    "df_cleaned_zscore = outliers(df, method='z-score')\n",
    "print(\"Datos sin outliers (z-score):\\n\", df_cleaned_zscore)\n",
    "\n",
    "# Eliminar outliers utilizando boxplot\n",
    "df_cleaned_boxplot = outliers(df, method='boxplot')\n",
    "print(\"\\nDatos sin outliers (boxplot):\\n\", df_cleaned_boxplot)\n"
   ]
  },
  {
   "cell_type": "code",
   "execution_count": 9,
   "id": "90739bfa",
   "metadata": {},
   "outputs": [
    {
     "data": {
      "text/html": [
       "<div>\n",
       "<style scoped>\n",
       "    .dataframe tbody tr th:only-of-type {\n",
       "        vertical-align: middle;\n",
       "    }\n",
       "\n",
       "    .dataframe tbody tr th {\n",
       "        vertical-align: top;\n",
       "    }\n",
       "\n",
       "    .dataframe thead th {\n",
       "        text-align: right;\n",
       "    }\n",
       "</style>\n",
       "<table border=\"1\" class=\"dataframe\">\n",
       "  <thead>\n",
       "    <tr style=\"text-align: right;\">\n",
       "      <th></th>\n",
       "      <th>total_rooms</th>\n",
       "      <th>total_bedrooms</th>\n",
       "      <th>median_income</th>\n",
       "    </tr>\n",
       "  </thead>\n",
       "  <tbody>\n",
       "    <tr>\n",
       "      <th>0</th>\n",
       "      <td>880.0</td>\n",
       "      <td>129.0</td>\n",
       "      <td>8.3252</td>\n",
       "    </tr>\n",
       "    <tr>\n",
       "      <th>1</th>\n",
       "      <td>7099.0</td>\n",
       "      <td>1106.0</td>\n",
       "      <td>8.3014</td>\n",
       "    </tr>\n",
       "    <tr>\n",
       "      <th>2</th>\n",
       "      <td>1467.0</td>\n",
       "      <td>190.0</td>\n",
       "      <td>7.2574</td>\n",
       "    </tr>\n",
       "    <tr>\n",
       "      <th>3</th>\n",
       "      <td>1274.0</td>\n",
       "      <td>235.0</td>\n",
       "      <td>5.6431</td>\n",
       "    </tr>\n",
       "    <tr>\n",
       "      <th>4</th>\n",
       "      <td>1627.0</td>\n",
       "      <td>280.0</td>\n",
       "      <td>3.8462</td>\n",
       "    </tr>\n",
       "    <tr>\n",
       "      <th>...</th>\n",
       "      <td>...</td>\n",
       "      <td>...</td>\n",
       "      <td>...</td>\n",
       "    </tr>\n",
       "    <tr>\n",
       "      <th>20635</th>\n",
       "      <td>1665.0</td>\n",
       "      <td>374.0</td>\n",
       "      <td>1.5603</td>\n",
       "    </tr>\n",
       "    <tr>\n",
       "      <th>20636</th>\n",
       "      <td>697.0</td>\n",
       "      <td>150.0</td>\n",
       "      <td>2.5568</td>\n",
       "    </tr>\n",
       "    <tr>\n",
       "      <th>20637</th>\n",
       "      <td>2254.0</td>\n",
       "      <td>485.0</td>\n",
       "      <td>1.7000</td>\n",
       "    </tr>\n",
       "    <tr>\n",
       "      <th>20638</th>\n",
       "      <td>1860.0</td>\n",
       "      <td>409.0</td>\n",
       "      <td>1.8672</td>\n",
       "    </tr>\n",
       "    <tr>\n",
       "      <th>20639</th>\n",
       "      <td>2785.0</td>\n",
       "      <td>616.0</td>\n",
       "      <td>2.3886</td>\n",
       "    </tr>\n",
       "  </tbody>\n",
       "</table>\n",
       "<p>20640 rows × 3 columns</p>\n",
       "</div>"
      ],
      "text/plain": [
       "       total_rooms  total_bedrooms  median_income\n",
       "0            880.0           129.0         8.3252\n",
       "1           7099.0          1106.0         8.3014\n",
       "2           1467.0           190.0         7.2574\n",
       "3           1274.0           235.0         5.6431\n",
       "4           1627.0           280.0         3.8462\n",
       "...            ...             ...            ...\n",
       "20635       1665.0           374.0         1.5603\n",
       "20636        697.0           150.0         2.5568\n",
       "20637       2254.0           485.0         1.7000\n",
       "20638       1860.0           409.0         1.8672\n",
       "20639       2785.0           616.0         2.3886\n",
       "\n",
       "[20640 rows x 3 columns]"
      ]
     },
     "execution_count": 9,
     "metadata": {},
     "output_type": "execute_result"
    }
   ],
   "source": [
    "data"
   ]
  },
  {
   "cell_type": "code",
   "execution_count": 16,
   "id": "13ceb44c",
   "metadata": {},
   "outputs": [],
   "source": [
    "maximos = data[['total_rooms', 'total_bedrooms', 'median_income']].max()"
   ]
  },
  {
   "cell_type": "code",
   "execution_count": null,
   "id": "2b2793fb",
   "metadata": {},
   "outputs": [],
   "source": [
    "maximos"
   ]
  },
  {
   "cell_type": "code",
   "execution_count": null,
   "id": "1897f070",
   "metadata": {},
   "outputs": [],
   "source": [
    "maximos = df_cleaned_zscore[['total_rooms', 'total_bedrooms', 'median_income']].max()"
   ]
  },
  {
   "cell_type": "code",
   "execution_count": null,
   "id": "f27ac9ac",
   "metadata": {},
   "outputs": [],
   "source": [
    "maximos"
   ]
  },
  {
   "cell_type": "code",
   "execution_count": 14,
   "id": "2cd0d6b5",
   "metadata": {},
   "outputs": [],
   "source": [
    "maximos = df_cleaned_boxplot[['total_rooms', 'total_bedrooms', 'median_income']].max()"
   ]
  },
  {
   "cell_type": "code",
   "execution_count": 15,
   "id": "31aa1e28",
   "metadata": {},
   "outputs": [
    {
     "data": {
      "text/plain": [
       "total_rooms       8244.0000\n",
       "total_bedrooms    1699.0000\n",
       "median_income       11.2463\n",
       "dtype: float64"
      ]
     },
     "execution_count": 15,
     "metadata": {},
     "output_type": "execute_result"
    }
   ],
   "source": [
    "maximos"
   ]
  },
  {
   "cell_type": "code",
   "execution_count": null,
   "id": "f5bbd9a1",
   "metadata": {},
   "outputs": [],
   "source": []
  }
 ],
 "metadata": {
  "kernelspec": {
   "display_name": "Python 3 (ipykernel)",
   "language": "python",
   "name": "python3"
  },
  "language_info": {
   "codemirror_mode": {
    "name": "ipython",
    "version": 3
   },
   "file_extension": ".py",
   "mimetype": "text/x-python",
   "name": "python",
   "nbconvert_exporter": "python",
   "pygments_lexer": "ipython3",
   "version": "3.9.13"
  }
 },
 "nbformat": 4,
 "nbformat_minor": 5
}
