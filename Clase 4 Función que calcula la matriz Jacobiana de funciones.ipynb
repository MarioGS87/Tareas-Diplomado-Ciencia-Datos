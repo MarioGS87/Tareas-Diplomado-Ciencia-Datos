{
 "cells": [
  {
   "cell_type": "code",
   "execution_count": 11,
   "id": "78c16646",
   "metadata": {},
   "outputs": [
    {
     "name": "stdout",
     "output_type": "stream",
     "text": [
      "Matriz Jacobiana:\n",
      "\n",
      "⎡y⋅z  x⋅z   x⋅y ⎤\n",
      "⎢               ⎥\n",
      "⎢              2⎥\n",
      "⎣ 0    1   -3⋅z ⎦\n",
      "\n",
      " Matriz Jacobiana evaluada en el punto (2, 2, 2):\n",
      "\n",
      "⎡4.0  4.0   4.0 ⎤\n",
      "⎢               ⎥\n",
      "⎣ 0   1.0  -12.0⎦\n"
     ]
    }
   ],
   "source": [
    "import sympy as sp\n",
    "\n",
    "def calcular_jacobiana(funciones, variables):\n",
    "    \"\"\"\n",
    "    Calcula la matriz jacobiana de un conjunto de funciones vectoriales con respecto a un conjunto de variables.\n",
    "\n",
    "    :param funciones: Lista de funciones simbólicas.\n",
    "    :param variables: Lista de variables simbólicas.\n",
    "    :return: Matriz jacobiana.\n",
    "    \"\"\"\n",
    "    jacobiana = sp.Matrix(funciones).jacobian(variables)\n",
    "    return jacobiana\n",
    "\n",
    "def evaluar_jacobiana(jacobiana, variables, valores):\n",
    "    \"\"\"\n",
    "    Evalúa la matriz jacobiana en un punto específico.\n",
    "\n",
    "    :param jacobiana: Matriz jacobiana simbólica.\n",
    "    :param variables: Lista de variables simbólicas.\n",
    "    :param valores: Lista de valores en los que evaluar las variables.\n",
    "    :return: Matriz jacobiana evaluada en los puntos dados.\n",
    "    \"\"\"\n",
    "    valor_dic = dict(zip(variables, valores))\n",
    "    jacobiana_evaluada = jacobiana.evalf(subs=valor_dic)\n",
    "    return jacobiana_evaluada\n",
    "\n",
    "# Definir las variables simbólicas\n",
    "x, y, z = sp.symbols('x y z')\n",
    "\n",
    "# Definir las funciones vectoriales\n",
    "f1 = x*y*z\n",
    "f2 = y - z**3\n",
    "\n",
    "# Calcular la matriz jacobiana\n",
    "jacobiana = calcular_jacobiana([f1, f2], [x, y, z])\n",
    "\n",
    "# Función para evaluar la matriz jacobiana en puntos específicos\n",
    "def evaluar_jacobiana_en_punto(punto):\n",
    "    return evaluar_jacobiana(jacobiana, [x, y, z], punto)\n",
    "\n",
    "# Ejemplo de evaluación en un punto específico\n",
    "punto = (2, 2, 2)\n",
    "jacobiana_en_punto = evaluar_jacobiana_en_punto(punto)\n",
    "\n",
    "print(\"Matriz Jacobiana:\\n\")\n",
    "sp.pprint(jacobiana)\n",
    "\n",
    "print(f\"\\n Matriz Jacobiana evaluada en el punto {punto}:\\n\")\n",
    "sp.pprint(jacobiana_en_punto)"
   ]
  }
 ],
 "metadata": {
  "kernelspec": {
   "display_name": "Python 3 (ipykernel)",
   "language": "python",
   "name": "python3"
  },
  "language_info": {
   "codemirror_mode": {
    "name": "ipython",
    "version": 3
   },
   "file_extension": ".py",
   "mimetype": "text/x-python",
   "name": "python",
   "nbconvert_exporter": "python",
   "pygments_lexer": "ipython3",
   "version": "3.9.13"
  }
 },
 "nbformat": 4,
 "nbformat_minor": 5
}
